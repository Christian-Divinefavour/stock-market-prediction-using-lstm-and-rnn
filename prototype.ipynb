{
  "nbformat": 4,
  "nbformat_minor": 0,
  "metadata": {
    "colab": {
      "name": "Untitled1.ipynb",
      "provenance": [],
      "collapsed_sections": []
    },
    "kernelspec": {
      "name": "python3",
      "display_name": "Python 3"
    }
  },
  "cells": [
    {
      "cell_type": "code",
      "metadata": {
        "id": "QpmRkwbh8f9e",
        "colab_type": "code",
        "colab": {}
      },
      "source": [
        "#--Description:This program aims at using the Artificial Neural Networks: Recurrent Neural Network and Long Short Term\n",
        "#              Memory (LSTM) to predict future closing prices of the Brent Oil Commodity using previous stock price from\n",
        "#              105 months (Dec 2, 2010 to Sept 2, 2019) ."
      ],
      "execution_count": 0,
      "outputs": []
    },
    {
      "cell_type": "code",
      "metadata": {
        "id": "dfeO9B_E9i2i",
        "colab_type": "code",
        "colab": {}
      },
      "source": [
        "#-------IMPORT LIBRARIES--------"
      ],
      "execution_count": 0,
      "outputs": []
    },
    {
      "cell_type": "code",
      "metadata": {
        "id": "r7krP6O39yip",
        "colab_type": "code",
        "outputId": "f8b4af96-e707-4e31-cb33-cb25dba8b906",
        "colab": {
          "base_uri": "https://localhost:8080/",
          "height": 34
        }
      },
      "source": [
        "import math\n",
        "import numpy as np\n",
        "import pandas as pd\n",
        "import matplotlib.pyplot as plt\n",
        "plt.style.use('fivethirtyeight')\n",
        "from sklearn.preprocessing import MinMaxScaler\n",
        "import tensorflow as tf\n",
        "from keras.models import Sequential\n",
        "from keras.layers import Dense, LSTM"
      ],
      "execution_count": 3,
      "outputs": [
        {
          "output_type": "stream",
          "text": [
            "Using TensorFlow backend.\n"
          ],
          "name": "stderr"
        }
      ]
    },
    {
      "cell_type": "code",
      "metadata": {
        "id": "fsgT448x-jzs",
        "colab_type": "code",
        "colab": {}
      },
      "source": [
        "#------------IMPORT THE DATAFRAME-----------"
      ],
      "execution_count": 0,
      "outputs": []
    },
    {
      "cell_type": "code",
      "metadata": {
        "id": "YhUYQfi0-oeV",
        "colab_type": "code",
        "outputId": "60b57eb3-0b1e-4ec6-9c83-8dbc98b1f4ed",
        "colab": {
          "base_uri": "https://localhost:8080/",
          "height": 204
        }
      },
      "source": [
        "df = pd.read_csv('BRENToil.csv')\n",
        "df.head()"
      ],
      "execution_count": 5,
      "outputs": [
        {
          "output_type": "execute_result",
          "data": {
            "text/html": [
              "<div>\n",
              "<style scoped>\n",
              "    .dataframe tbody tr th:only-of-type {\n",
              "        vertical-align: middle;\n",
              "    }\n",
              "\n",
              "    .dataframe tbody tr th {\n",
              "        vertical-align: top;\n",
              "    }\n",
              "\n",
              "    .dataframe thead th {\n",
              "        text-align: right;\n",
              "    }\n",
              "</style>\n",
              "<table border=\"1\" class=\"dataframe\">\n",
              "  <thead>\n",
              "    <tr style=\"text-align: right;\">\n",
              "      <th></th>\n",
              "      <th>Gmt time</th>\n",
              "      <th>Open</th>\n",
              "      <th>High</th>\n",
              "      <th>Low</th>\n",
              "      <th>Close</th>\n",
              "      <th>Volume</th>\n",
              "    </tr>\n",
              "  </thead>\n",
              "  <tbody>\n",
              "    <tr>\n",
              "      <th>0</th>\n",
              "      <td>01.12.2010 22:00:00.000</td>\n",
              "      <td>88.734</td>\n",
              "      <td>90.810</td>\n",
              "      <td>88.390</td>\n",
              "      <td>90.680</td>\n",
              "      <td>10575.0840</td>\n",
              "    </tr>\n",
              "    <tr>\n",
              "      <th>1</th>\n",
              "      <td>02.12.2010 22:00:00.000</td>\n",
              "      <td>90.690</td>\n",
              "      <td>91.838</td>\n",
              "      <td>90.086</td>\n",
              "      <td>91.565</td>\n",
              "      <td>18357.7109</td>\n",
              "    </tr>\n",
              "    <tr>\n",
              "      <th>2</th>\n",
              "      <td>05.12.2010 22:00:00.000</td>\n",
              "      <td>91.578</td>\n",
              "      <td>91.999</td>\n",
              "      <td>90.836</td>\n",
              "      <td>90.968</td>\n",
              "      <td>22625.6281</td>\n",
              "    </tr>\n",
              "    <tr>\n",
              "      <th>3</th>\n",
              "      <td>06.12.2010 22:00:00.000</td>\n",
              "      <td>90.975</td>\n",
              "      <td>92.840</td>\n",
              "      <td>90.695</td>\n",
              "      <td>90.868</td>\n",
              "      <td>15015.8009</td>\n",
              "    </tr>\n",
              "    <tr>\n",
              "      <th>4</th>\n",
              "      <td>07.12.2010 22:00:00.000</td>\n",
              "      <td>90.858</td>\n",
              "      <td>91.708</td>\n",
              "      <td>90.128</td>\n",
              "      <td>90.991</td>\n",
              "      <td>17948.3942</td>\n",
              "    </tr>\n",
              "  </tbody>\n",
              "</table>\n",
              "</div>"
            ],
            "text/plain": [
              "                  Gmt time    Open    High     Low   Close      Volume\n",
              "0  01.12.2010 22:00:00.000  88.734  90.810  88.390  90.680  10575.0840\n",
              "1  02.12.2010 22:00:00.000  90.690  91.838  90.086  91.565  18357.7109\n",
              "2  05.12.2010 22:00:00.000  91.578  91.999  90.836  90.968  22625.6281\n",
              "3  06.12.2010 22:00:00.000  90.975  92.840  90.695  90.868  15015.8009\n",
              "4  07.12.2010 22:00:00.000  90.858  91.708  90.128  90.991  17948.3942"
            ]
          },
          "metadata": {
            "tags": []
          },
          "execution_count": 5
        }
      ]
    },
    {
      "cell_type": "code",
      "metadata": {
        "id": "uTeN5Wm9-xAY",
        "colab_type": "code",
        "outputId": "78c0eb67-a26a-4f6c-d67f-7bc3900e81a2",
        "colab": {
          "base_uri": "https://localhost:8080/",
          "height": 34
        }
      },
      "source": [
        "df.shape"
      ],
      "execution_count": 6,
      "outputs": [
        {
          "output_type": "execute_result",
          "data": {
            "text/plain": [
              "(2212, 6)"
            ]
          },
          "metadata": {
            "tags": []
          },
          "execution_count": 6
        }
      ]
    },
    {
      "cell_type": "code",
      "metadata": {
        "id": "0ugtxfsg-10J",
        "colab_type": "code",
        "colab": {}
      },
      "source": [
        "#-----------DISPLAY DATA TYPES---------"
      ],
      "execution_count": 0,
      "outputs": []
    },
    {
      "cell_type": "code",
      "metadata": {
        "id": "tW-4LUbb-6cB",
        "colab_type": "code",
        "outputId": "0befce47-f782-40fb-d317-624503e39544",
        "colab": {
          "base_uri": "https://localhost:8080/",
          "height": 136
        }
      },
      "source": [
        "df.dtypes"
      ],
      "execution_count": 8,
      "outputs": [
        {
          "output_type": "execute_result",
          "data": {
            "text/plain": [
              "Gmt time     object\n",
              "Open        float64\n",
              "High        float64\n",
              "Low         float64\n",
              "Close       float64\n",
              "Volume      float64\n",
              "dtype: object"
            ]
          },
          "metadata": {
            "tags": []
          },
          "execution_count": 8
        }
      ]
    },
    {
      "cell_type": "code",
      "metadata": {
        "id": "CRUBTWNA-_kE",
        "colab_type": "code",
        "colab": {}
      },
      "source": [
        "#----------CONVERT 'GMT TIME' TO DATETIME DATA TYPE---------"
      ],
      "execution_count": 0,
      "outputs": []
    },
    {
      "cell_type": "code",
      "metadata": {
        "id": "7C1jXimI_FuH",
        "colab_type": "code",
        "outputId": "9511998d-56a9-40e5-b20d-46e8e1ce1ef3",
        "colab": {
          "base_uri": "https://localhost:8080/",
          "height": 136
        }
      },
      "source": [
        "df['Gmt time']=pd.to_datetime(df['Gmt time'])\n",
        "df.dtypes"
      ],
      "execution_count": 10,
      "outputs": [
        {
          "output_type": "execute_result",
          "data": {
            "text/plain": [
              "Gmt time    datetime64[ns]\n",
              "Open               float64\n",
              "High               float64\n",
              "Low                float64\n",
              "Close              float64\n",
              "Volume             float64\n",
              "dtype: object"
            ]
          },
          "metadata": {
            "tags": []
          },
          "execution_count": 10
        }
      ]
    },
    {
      "cell_type": "code",
      "metadata": {
        "id": "0FB2UQYd_J-Y",
        "colab_type": "code",
        "colab": {}
      },
      "source": [
        "#------------CLOSING PRICE VISUALIZATION-------------"
      ],
      "execution_count": 0,
      "outputs": []
    },
    {
      "cell_type": "code",
      "metadata": {
        "id": "a74wCZgM_QlD",
        "colab_type": "code",
        "outputId": "0b6f2357-83fd-4dec-fbde-b10d027e4ebd",
        "colab": {
          "base_uri": "https://localhost:8080/",
          "height": 558
        }
      },
      "source": [
        "plt.figure(figsize=(16,8))\n",
        "plt.title('CLOSE PRICE VISIUALIZATION')\n",
        "plt.plot(df['Close'])\n",
        "plt.xlabel('Date')\n",
        "plt.ylabel('Price ($)')\n",
        "plt.show()"
      ],
      "execution_count": 12,
      "outputs": [
        {
          "output_type": "display_data",
          "data": {
            "image/png": "[encoded data removed]",
            "text/plain": [
              "<Figure size 1152x576 with 1 Axes>"
            ]
          },
          "metadata": {
            "tags": []
          }
        }
      ]
    },
    {
      "cell_type": "code",
      "metadata": {
        "id": "tMOmHAl6n3eD",
        "colab_type": "code",
        "outputId": "a0d37576-400e-42ad-d5d7-d041e2c0a94b",
        "colab": {
          "base_uri": "https://localhost:8080/",
          "height": 34
        }
      },
      "source": [
        "c_df = df.filter(['Close'])\n",
        "data = c_df.values\n",
        "train_c_df_len = math.ceil(len(data)*.8)\n",
        "train_c_df_len"
      ],
      "execution_count": 13,
      "outputs": [
        {
          "output_type": "execute_result",
          "data": {
            "text/plain": [
              "1770"
            ]
          },
          "metadata": {
            "tags": []
          },
          "execution_count": 13
        }
      ]
    },
    {
      "cell_type": "code",
      "metadata": {
        "id": "c5S5m-2mxLRI",
        "colab_type": "code",
        "outputId": "fe4ea8b0-0418-4f2a-9a00-0ea82c86cda3",
        "colab": {
          "base_uri": "https://localhost:8080/",
          "height": 136
        }
      },
      "source": [
        "norm = MinMaxScaler(feature_range=(0,1))\n",
        "norm_data = norm.fit_transform(data)\n",
        "norm_data"
      ],
      "execution_count": 14,
      "outputs": [
        {
          "output_type": "execute_result",
          "data": {
            "text/plain": [
              "array([[0.63464548],\n",
              "       [0.64358045],\n",
              "       [0.63755313],\n",
              "       ...,\n",
              "       [0.31515714],\n",
              "       [0.31051298],\n",
              "       [0.30647457]])"
            ]
          },
          "metadata": {
            "tags": []
          },
          "execution_count": 14
        }
      ]
    },
    {
      "cell_type": "code",
      "metadata": {
        "id": "W5a0KoXxxRbS",
        "colab_type": "code",
        "colab": {}
      },
      "source": [
        "train_df = norm_data[0:train_c_df_len,:]"
      ],
      "execution_count": 0,
      "outputs": []
    },
    {
      "cell_type": "code",
      "metadata": {
        "id": "L_fbM5r5xUwQ",
        "colab_type": "code",
        "colab": {}
      },
      "source": [
        "x_train = []\n",
        "y_train = []\n",
        "\n",
        "for i in range(60, len(train_df)):\n",
        "    x_train.append(train_df[i-60:i, 0])\n",
        "    y_train.append(train_df[i,0])"
      ],
      "execution_count": 0,
      "outputs": []
    },
    {
      "cell_type": "code",
      "metadata": {
        "id": "D9sQsyxzxYX8",
        "colab_type": "code",
        "colab": {}
      },
      "source": [
        "x_train, y_train= np.array(x_train), np.array(y_train)"
      ],
      "execution_count": 0,
      "outputs": []
    },
    {
      "cell_type": "code",
      "metadata": {
        "id": "gM0XgWcAxbi4",
        "colab_type": "code",
        "outputId": "27b9823b-94ae-4be7-a9a2-54e7295f9f60",
        "colab": {
          "base_uri": "https://localhost:8080/",
          "height": 34
        }
      },
      "source": [
        "x_train = np.reshape(x_train, (x_train.shape[0], x_train.shape[1], 1))\n",
        "x_train.shape"
      ],
      "execution_count": 18,
      "outputs": [
        {
          "output_type": "execute_result",
          "data": {
            "text/plain": [
              "(1710, 60, 1)"
            ]
          },
          "metadata": {
            "tags": []
          },
          "execution_count": 18
        }
      ]
    },
    {
      "cell_type": "code",
      "metadata": {
        "id": "PUg3Y8PGxjHS",
        "colab_type": "code",
        "colab": {}
      },
      "source": [
        "model = tf.keras.Sequential()\n",
        "model.add(tf.keras.layers.LSTM(50, return_sequences=True, input_shape=(60, 1)))\n",
        "model.add(tf.keras.layers.LSTM(50, return_sequences=False,))\n",
        "model.add(tf.keras.layers.Dense(25))\n",
        "model.add(tf.keras.layers.Dense(1))"
      ],
      "execution_count": 0,
      "outputs": []
    },
    {
      "cell_type": "code",
      "metadata": {
        "id": "duMz4FMOx_YS",
        "colab_type": "code",
        "colab": {}
      },
      "source": [
        "#-------------COMPILE MODEL"
      ],
      "execution_count": 0,
      "outputs": []
    },
    {
      "cell_type": "code",
      "metadata": {
        "id": "NeIiEQLxylSV",
        "colab_type": "code",
        "colab": {}
      },
      "source": [
        "model.compile(optimizer='adam', loss=tf.keras.losses.MeanSquaredError())"
      ],
      "execution_count": 0,
      "outputs": []
    },
    {
      "cell_type": "code",
      "metadata": {
        "id": "h0Y3hMDQy1A1",
        "colab_type": "code",
        "colab": {}
      },
      "source": [
        "#-------------TRAIN MODEL"
      ],
      "execution_count": 0,
      "outputs": []
    },
    {
      "cell_type": "code",
      "metadata": {
        "id": "UiiGR2Hoy4L8",
        "colab_type": "code",
        "outputId": "dc7a1cfe-f42f-45bb-9e32-47205bc07a0b",
        "colab": {
          "base_uri": "https://localhost:8080/",
          "height": 51
        }
      },
      "source": [
        "model.fit(x_train, y_train, batch_size=1, epochs=1)"
      ],
      "execution_count": 23,
      "outputs": [
        {
          "output_type": "stream",
          "text": [
            "1710/1710 [==============================] - 48s 28ms/step - loss: 0.0032\n"
          ],
          "name": "stdout"
        },
        {
          "output_type": "execute_result",
          "data": {
            "text/plain": [
              "<tensorflow.python.keras.callbacks.History at 0x7fb38bba8208>"
            ]
          },
          "metadata": {
            "tags": []
          },
          "execution_count": 23
        }
      ]
    },
    {
      "cell_type": "code",
      "metadata": {
        "id": "uiy07BIu1srV",
        "colab_type": "code",
        "colab": {}
      },
      "source": [
        "#----------CREATE TESTING DATA\n",
        "#----------ARRAY CONTAINING NORMALIZED VALUES FROM 1710 TO 1770"
      ],
      "execution_count": 0,
      "outputs": []
    },
    {
      "cell_type": "code",
      "metadata": {
        "id": "-MIkRWcN2FXG",
        "colab_type": "code",
        "colab": {}
      },
      "source": [
        "test_df = norm_data[train_c_df_len - 60:, :]"
      ],
      "execution_count": 0,
      "outputs": []
    },
    {
      "cell_type": "code",
      "metadata": {
        "id": "AfCuQAe0RpXJ",
        "colab_type": "code",
        "outputId": "c2a82900-b3f6-4e06-de05-87a08abf4ffc",
        "colab": {
          "base_uri": "https://localhost:8080/",
          "height": 1000
        }
      },
      "source": [
        "test_df"
      ],
      "execution_count": 26,
      "outputs": [
        {
          "output_type": "execute_result",
          "data": {
            "text/plain": [
              "array([[0.29223919],\n",
              "       [0.31616675],\n",
              "       [0.31010914],\n",
              "       [0.30107321],\n",
              "       [0.29885208],\n",
              "       [0.29143151],\n",
              "       [0.28502055],\n",
              "       [0.2813355 ],\n",
              "       [0.28189078],\n",
              "       [0.29410696],\n",
              "       [0.2798211 ],\n",
              "       [0.28093166],\n",
              "       [0.28961423],\n",
              "       [0.29072479],\n",
              "       [0.28835223],\n",
              "       [0.29617664],\n",
              "       [0.30344577],\n",
              "       [0.30561641],\n",
              "       [0.30642409],\n",
              "       [0.29688336],\n",
              "       [0.30294097],\n",
              "       [0.29769104],\n",
              "       [0.30925098],\n",
              "       [0.30874618],\n",
              "       [0.31959939],\n",
              "       [0.32974588],\n",
              "       [0.33403669],\n",
              "       [0.33560157],\n",
              "       [0.32939252],\n",
              "       [0.33206797],\n",
              "       [0.34554614],\n",
              "       [0.36563721],\n",
              "       [0.36043776],\n",
              "       [0.35988248],\n",
              "       [0.36301225],\n",
              "       [0.36089208],\n",
              "       [0.356046  ],\n",
              "       [0.33863037],\n",
              "       [0.34352694],\n",
              "       [0.33847893],\n",
              "       [0.35195711],\n",
              "       [0.34660623],\n",
              "       [0.35180567],\n",
              "       [0.35801472],\n",
              "       [0.3590748 ],\n",
              "       [0.36230553],\n",
              "       [0.36230553],\n",
              "       [0.35851952],\n",
              "       [0.35533928],\n",
              "       [0.35200759],\n",
              "       [0.36149784],\n",
              "       [0.34923119],\n",
              "       [0.35135135],\n",
              "       [0.33721693],\n",
              "       [0.34544518],\n",
              "       [0.35816616],\n",
              "       [0.3722501 ],\n",
              "       [0.36346657],\n",
              "       [0.35155327],\n",
              "       [0.35887288],\n",
              "       [0.35740896],\n",
              "       [0.35927672],\n",
              "       [0.36336561],\n",
              "       [0.37012994],\n",
              "       [0.37260346],\n",
              "       [0.37543034],\n",
              "       [0.39345173],\n",
              "       [0.38956476],\n",
              "       [0.38699028],\n",
              "       [0.39158396],\n",
              "       [0.39012004],\n",
              "       [0.40526406],\n",
              "       [0.4051631 ],\n",
              "       [0.40223526],\n",
              "       [0.40435542],\n",
              "       [0.41753072],\n",
              "       [0.41672304],\n",
              "       [0.41677352],\n",
              "       [0.42409313],\n",
              "       [0.42792961],\n",
              "       [0.41879272],\n",
              "       [0.4198528 ],\n",
              "       [0.41677352],\n",
              "       [0.41286636],\n",
              "       [0.4188432 ],\n",
              "       [0.42459793],\n",
              "       [0.43307858],\n",
              "       [0.42681905],\n",
              "       [0.43043342],\n",
              "       [0.4196004 ],\n",
              "       [0.41566295],\n",
              "       [0.41448172],\n",
              "       [0.42267968],\n",
              "       [0.40786883],\n",
              "       [0.39526901],\n",
              "       [0.39799493],\n",
              "       [0.37962019],\n",
              "       [0.36750497],\n",
              "       [0.35087684],\n",
              "       [0.35185615],\n",
              "       [0.35049319],\n",
              "       [0.36901937],\n",
              "       [0.36992802],\n",
              "       [0.37374431],\n",
              "       [0.38052883],\n",
              "       [0.37558178],\n",
              "       [0.37618754],\n",
              "       [0.38767681],\n",
              "       [0.3985805 ],\n",
              "       [0.40072086],\n",
              "       [0.39133156],\n",
              "       [0.37154338],\n",
              "       [0.36700017],\n",
              "       [0.37031166],\n",
              "       [0.38093267],\n",
              "       [0.38103363],\n",
              "       [0.37041262],\n",
              "       [0.36361801],\n",
              "       [0.38081152],\n",
              "       [0.37493564],\n",
              "       [0.3719977 ],\n",
              "       [0.37320922],\n",
              "       [0.37532938],\n",
              "       [0.38654605],\n",
              "       [0.38623308],\n",
              "       [0.40077134],\n",
              "       [0.4228816 ],\n",
              "       [0.41389615],\n",
              "       [0.42884835],\n",
              "       [0.42580945],\n",
              "       [0.42106432],\n",
              "       [0.4213672 ],\n",
              "       [0.41944896],\n",
              "       [0.40092278],\n",
              "       [0.40672798],\n",
              "       [0.40733374],\n",
              "       [0.41056447],\n",
              "       [0.39565266],\n",
              "       [0.41076639],\n",
              "       [0.43570354],\n",
              "       [0.44448707],\n",
              "       [0.44701108],\n",
              "       [0.45135236],\n",
              "       [0.44065059],\n",
              "       [0.44236691],\n",
              "       [0.46397238],\n",
              "       [0.46205413],\n",
              "       [0.46228634],\n",
              "       [0.47598663],\n",
              "       [0.46457814],\n",
              "       [0.46599158],\n",
              "       [0.47356359],\n",
              "       [0.47169583],\n",
              "       [0.47331119],\n",
              "       [0.45897485],\n",
              "       [0.45665277],\n",
              "       [0.46311422],\n",
              "       [0.47568375],\n",
              "       [0.48133752],\n",
              "       [0.48577977],\n",
              "       [0.4996113 ],\n",
              "       [0.5006209 ],\n",
              "       [0.49592626],\n",
              "       [0.5110198 ],\n",
              "       [0.50647659],\n",
              "       [0.51927834],\n",
              "       [0.52141869],\n",
              "       [0.51273612],\n",
              "       [0.52162061],\n",
              "       [0.52121677],\n",
              "       [0.52343789],\n",
              "       [0.51414956],\n",
              "       [0.48759705],\n",
              "       [0.47916688],\n",
              "       [0.47982312],\n",
              "       [0.50142859],\n",
              "       [0.50385163],\n",
              "       [0.49203929],\n",
              "       [0.48022696],\n",
              "       [0.47679431],\n",
              "       [0.48355864],\n",
              "       [0.49930842],\n",
              "       [0.48991913],\n",
              "       [0.48981817],\n",
              "       [0.48073176],\n",
              "       [0.49092873],\n",
              "       [0.48567881],\n",
              "       [0.45650133],\n",
              "       [0.47931832],\n",
              "       [0.47568375],\n",
              "       [0.46790982],\n",
              "       [0.45640037],\n",
              "       [0.4841644 ],\n",
              "       [0.47457319],\n",
              "       [0.49163545],\n",
              "       [0.49991418],\n",
              "       [0.50440691],\n",
              "       [0.51869277],\n",
              "       [0.50021706],\n",
              "       [0.50415451],\n",
              "       [0.50809195],\n",
              "       [0.50183243],\n",
              "       [0.49752143],\n",
              "       [0.50819291],\n",
              "       [0.5160678 ],\n",
              "       [0.4672031 ],\n",
              "       [0.47002999],\n",
              "       [0.47437127],\n",
              "       [0.44529475],\n",
              "       [0.44186211],\n",
              "       [0.45609749],\n",
              "       [0.45145332],\n",
              "       [0.45569365],\n",
              "       [0.45528981],\n",
              "       [0.46225606],\n",
              "       [0.4661935 ],\n",
              "       [0.46932326],\n",
              "       [0.46942422],\n",
              "       [0.47533039],\n",
              "       [0.46649638],\n",
              "       [0.4512514 ],\n",
              "       [0.45963109],\n",
              "       [0.45945946],\n",
              "       [0.4624075 ],\n",
              "       [0.47098911],\n",
              "       [0.44791972],\n",
              "       [0.44539571],\n",
              "       [0.45539077],\n",
              "       [0.4537754 ],\n",
              "       [0.44761684],\n",
              "       [0.43317954],\n",
              "       [0.43943907],\n",
              "       [0.44357843],\n",
              "       [0.44781876],\n",
              "       [0.45357348],\n",
              "       [0.47487607],\n",
              "       [0.47346263],\n",
              "       [0.48237741],\n",
              "       [0.48921241],\n",
              "       [0.48507304],\n",
              "       [0.49956082],\n",
              "       [0.50334683],\n",
              "       [0.5031752 ],\n",
              "       [0.50654726],\n",
              "       [0.50415451],\n",
              "       [0.49698634],\n",
              "       [0.49203929],\n",
              "       [0.4965825 ],\n",
              "       [0.49991418],\n",
              "       [0.52101485],\n",
              "       [0.52363981],\n",
              "       [0.51011116],\n",
              "       [0.50708235],\n",
              "       [0.50536603],\n",
              "       [0.51495724],\n",
              "       [0.52000525],\n",
              "       [0.51243324],\n",
              "       [0.513039  ],\n",
              "       [0.54100496],\n",
              "       [0.54211552],\n",
              "       [0.543428  ],\n",
              "       [0.5439328 ],\n",
              "       [0.55564418],\n",
              "       [0.57674484],\n",
              "       [0.57361508],\n",
              "       [0.58663894],\n",
              "       [0.57553332],\n",
              "       [0.56695171],\n",
              "       [0.56523539],\n",
              "       [0.57523044],\n",
              "       [0.55100001],\n",
              "       [0.52937435],\n",
              "       [0.53181759],\n",
              "       [0.53464447],\n",
              "       [0.54272128],\n",
              "       [0.52998011],\n",
              "       [0.51960141],\n",
              "       [0.5264667 ],\n",
              "       [0.52727438],\n",
              "       [0.48759705],\n",
              "       [0.48285192],\n",
              "       [0.49193833],\n",
              "       [0.50313481],\n",
              "       [0.49461378],\n",
              "       [0.48557785],\n",
              "       [0.47204919],\n",
              "       [0.45337156],\n",
              "       [0.45135236],\n",
              "       [0.45256388],\n",
              "       [0.44277075],\n",
              "       [0.44559763],\n",
              "       [0.43489586],\n",
              "       [0.421872  ],\n",
              "       [0.41611728],\n",
              "       [0.37744955],\n",
              "       [0.38399176],\n",
              "       [0.39168492],\n",
              "       [0.39531949],\n",
              "       [0.39451181],\n",
              "       [0.34857495],\n",
              "       [0.35988248],\n",
              "       [0.34988743],\n",
              "       [0.31621723],\n",
              "       [0.3302002 ],\n",
              "       [0.33292613],\n",
              "       [0.31162354],\n",
              "       [0.31975083],\n",
              "       [0.31556098],\n",
              "       [0.34302214],\n",
              "       [0.33827701],\n",
              "       [0.34090198],\n",
              "       [0.3271714 ],\n",
              "       [0.33767125],\n",
              "       [0.32343588],\n",
              "       [0.32959444],\n",
              "       [0.32686852],\n",
              "       [0.34130582],\n",
              "       [0.32737332],\n",
              "       [0.31195671],\n",
              "       [0.2843643 ],\n",
              "       [0.28931135],\n",
              "       [0.27154237],\n",
              "       [0.25892235],\n",
              "       [0.22863431],\n",
              "       [0.27351109],\n",
              "       [0.2464033 ],\n",
              "       [0.25417723],\n",
              "       [0.26221365],\n",
              "       [0.27174429],\n",
              "       [0.28012398],\n",
              "       [0.29852901],\n",
              "       [0.30051793],\n",
              "       [0.31091682],\n",
              "       [0.33757029],\n",
              "       [0.33696453],\n",
              "       [0.32989732],\n",
              "       [0.31707539],\n",
              "       [0.33007905],\n",
              "       [0.33787317],\n",
              "       [0.33645973],\n",
              "       [0.35079607],\n",
              "       [0.35301719],\n",
              "       [0.33979142],\n",
              "       [0.33393573],\n",
              "       [0.33595493],\n",
              "       [0.33979142],\n",
              "       [0.32444548],\n",
              "       [0.33701501],\n",
              "       [0.34226494],\n",
              "       [0.33595493],\n",
              "       [0.35342103],\n",
              "       [0.35220951],\n",
              "       [0.34494038],\n",
              "       [0.35069511],\n",
              "       [0.3411039 ],\n",
              "       [0.34534422],\n",
              "       [0.34039718],\n",
              "       [0.35059415],\n",
              "       [0.3615988 ],\n",
              "       [0.37108906],\n",
              "       [0.38868641],\n",
              "       [0.38976668],\n",
              "       [0.38966572],\n",
              "       [0.39643005],\n",
              "       [0.39481469],\n",
              "       [0.39430989],\n",
              "       [0.37270442],\n",
              "       [0.38168987],\n",
              "       [0.3894638 ],\n",
              "       [0.3892114 ],\n",
              "       [0.37411786],\n",
              "       [0.38128603],\n",
              "       [0.38138699],\n",
              "       [0.38421387],\n",
              "       [0.38522348],\n",
              "       [0.38202304],\n",
              "       [0.39118012],\n",
              "       [0.39350221],\n",
              "       [0.40198286],\n",
              "       [0.39713677],\n",
              "       [0.39562237],\n",
              "       [0.39966077],\n",
              "       [0.40208382],\n",
              "       [0.40783854],\n",
              "       [0.40208382],\n",
              "       [0.39512766],\n",
              "       [0.39774253],\n",
              "       [0.40551646],\n",
              "       [0.40354774],\n",
              "       [0.40369918],\n",
              "       [0.4013771 ],\n",
              "       [0.4173288 ],\n",
              "       [0.4198528 ],\n",
              "       [0.42005472],\n",
              "       [0.41803552],\n",
              "       [0.42954497],\n",
              "       [0.43641026],\n",
              "       [0.43338146],\n",
              "       [0.44155923],\n",
              "       [0.43519874],\n",
              "       [0.44085251],\n",
              "       [0.43822754],\n",
              "       [0.44438611],\n",
              "       [0.44186211],\n",
              "       [0.44529475],\n",
              "       [0.4672031 ],\n",
              "       [0.47002999],\n",
              "       [0.47124151],\n",
              "       [0.46891942],\n",
              "       [0.44166019],\n",
              "       [0.44549667],\n",
              "       [0.44226595],\n",
              "       [0.44711204],\n",
              "       [0.42914113],\n",
              "       [0.43368434],\n",
              "       [0.43943907],\n",
              "       [0.42328544],\n",
              "       [0.42792961],\n",
              "       [0.42782865],\n",
              "       [0.43317954],\n",
              "       [0.42479985],\n",
              "       [0.43439106],\n",
              "       [0.44489091],\n",
              "       [0.4537754 ],\n",
              "       [0.44670819],\n",
              "       [0.44650627],\n",
              "       [0.44600147],\n",
              "       [0.43388626],\n",
              "       [0.40480974],\n",
              "       [0.41773264],\n",
              "       [0.42570849],\n",
              "       [0.42671809],\n",
              "       [0.42232632],\n",
              "       [0.39213924],\n",
              "       [0.34170966],\n",
              "       [0.33272421],\n",
              "       [0.33928662],\n",
              "       [0.33040212],\n",
              "       [0.34776727],\n",
              "       [0.35786328],\n",
              "       [0.34857495],\n",
              "       [0.3456471 ],\n",
              "       [0.32303203],\n",
              "       [0.33787317],\n",
              "       [0.34534422],\n",
              "       [0.33454149],\n",
              "       [0.34736343],\n",
              "       [0.34706055],\n",
              "       [0.37038234],\n",
              "       [0.37805531],\n",
              "       [0.37280538],\n",
              "       [0.38330523],\n",
              "       [0.38754556],\n",
              "       [0.39057436],\n",
              "       [0.36917081],\n",
              "       [0.37724762],\n",
              "       [0.35089703],\n",
              "       [0.36392089],\n",
              "       [0.35665176],\n",
              "       [0.36927177],\n",
              "       [0.36442569],\n",
              "       [0.3699785 ],\n",
              "       [0.39128108],\n",
              "       [0.39259356],\n",
              "       [0.39420893],\n",
              "       [0.3869398 ],\n",
              "       [0.36806025],\n",
              "       [0.36028632],\n",
              "       [0.34938263],\n",
              "       [0.35301719],\n",
              "       [0.35836808],\n",
              "       [0.36694969],\n",
              "       [0.35634888],\n",
              "       [0.35594504],\n",
              "       [0.35799453],\n",
              "       [0.36346657],\n",
              "       [0.37108906],\n",
              "       [0.36745449],\n",
              "       [0.33545013],\n",
              "       [0.33751981],\n",
              "       [0.3251522 ],\n",
              "       [0.31142162],\n",
              "       [0.29799392],\n",
              "       [0.30172945],\n",
              "       [0.30695918],\n",
              "       [0.30889762],\n",
              "       [0.33383477],\n",
              "       [0.31515714],\n",
              "       [0.30798898],\n",
              "       [0.31111874],\n",
              "       [0.32232531],\n",
              "       [0.32553585],\n",
              "       [0.32828196],\n",
              "       [0.32474836],\n",
              "       [0.31586387],\n",
              "       [0.31263314],\n",
              "       [0.32595988],\n",
              "       [0.3291906 ],\n",
              "       [0.33545013],\n",
              "       [0.31515714],\n",
              "       [0.31051298],\n",
              "       [0.30647457]])"
            ]
          },
          "metadata": {
            "tags": []
          },
          "execution_count": 26
        }
      ]
    },
    {
      "cell_type": "code",
      "metadata": {
        "id": "VR8FEEnE2eMH",
        "colab_type": "code",
        "colab": {}
      },
      "source": [
        "#-------------CREATE X-TEST Y-TEST"
      ],
      "execution_count": 0,
      "outputs": []
    },
    {
      "cell_type": "code",
      "metadata": {
        "id": "5Di1l5TP2kqv",
        "colab_type": "code",
        "colab": {}
      },
      "source": [
        "x_test = []\n",
        "y_test = data[train_c_df_len:, :]\n",
        "for i in range (60, len(test_df)):\n",
        "  x_test.append(test_df[i-60:i, 0])"
      ],
      "execution_count": 0,
      "outputs": []
    },
    {
      "cell_type": "code",
      "metadata": {
        "id": "tOpvqFbXNBVG",
        "colab_type": "code",
        "colab": {}
      },
      "source": [
        "#-----------CONVERT TO NP ARRAY\n",
        "x_test = np.array(x_test)"
      ],
      "execution_count": 0,
      "outputs": []
    },
    {
      "cell_type": "code",
      "metadata": {
        "id": "PP_AlZVM3goE",
        "colab_type": "code",
        "colab": {}
      },
      "source": [
        "#---------------RESHAPE THE DATA\n",
        "x_test = np.reshape(x_test, (x_test.shape[0],x_test.shape[1] , 1))"
      ],
      "execution_count": 0,
      "outputs": []
    },
    {
      "cell_type": "code",
      "metadata": {
        "id": "jdflenQZNJKj",
        "colab_type": "code",
        "outputId": "df47fd33-88b5-462f-dc92-e910da395ef2",
        "colab": {
          "base_uri": "https://localhost:8080/",
          "height": 850
        }
      },
      "source": [
        "x_test"
      ],
      "execution_count": 31,
      "outputs": [
        {
          "output_type": "execute_result",
          "data": {
            "text/plain": [
              "array([[[0.29223919],\n",
              "        [0.31616675],\n",
              "        [0.31010914],\n",
              "        ...,\n",
              "        [0.36346657],\n",
              "        [0.35155327],\n",
              "        [0.35887288]],\n",
              "\n",
              "       [[0.31616675],\n",
              "        [0.31010914],\n",
              "        [0.30107321],\n",
              "        ...,\n",
              "        [0.35155327],\n",
              "        [0.35887288],\n",
              "        [0.35740896]],\n",
              "\n",
              "       [[0.31010914],\n",
              "        [0.30107321],\n",
              "        [0.29885208],\n",
              "        ...,\n",
              "        [0.35887288],\n",
              "        [0.35740896],\n",
              "        [0.35927672]],\n",
              "\n",
              "       ...,\n",
              "\n",
              "       [[0.35786328],\n",
              "        [0.34857495],\n",
              "        [0.3456471 ],\n",
              "        ...,\n",
              "        [0.32595988],\n",
              "        [0.3291906 ],\n",
              "        [0.33545013]],\n",
              "\n",
              "       [[0.34857495],\n",
              "        [0.3456471 ],\n",
              "        [0.32303203],\n",
              "        ...,\n",
              "        [0.3291906 ],\n",
              "        [0.33545013],\n",
              "        [0.31515714]],\n",
              "\n",
              "       [[0.3456471 ],\n",
              "        [0.32303203],\n",
              "        [0.33787317],\n",
              "        ...,\n",
              "        [0.33545013],\n",
              "        [0.31515714],\n",
              "        [0.31051298]]])"
            ]
          },
          "metadata": {
            "tags": []
          },
          "execution_count": 31
        }
      ]
    },
    {
      "cell_type": "code",
      "metadata": {
        "id": "-DAIt8ti5q3d",
        "colab_type": "code",
        "colab": {}
      },
      "source": [
        "#------------GET THE MODELS PREDICTED PRICE VALUE"
      ],
      "execution_count": 0,
      "outputs": []
    },
    {
      "cell_type": "code",
      "metadata": {
        "id": "WWG1FqPs6gcW",
        "colab_type": "code",
        "colab": {}
      },
      "source": [
        "predictions = model.predict(x_test)\n",
        "predictions = norm.inverse_transform(predictions)"
      ],
      "execution_count": 0,
      "outputs": []
    },
    {
      "cell_type": "code",
      "metadata": {
        "id": "jyCXJEPuXS_a",
        "colab_type": "code",
        "colab": {}
      },
      "source": [
        "#---------GET ROOT MEAN SQUARED ERROR"
      ],
      "execution_count": 0,
      "outputs": []
    },
    {
      "cell_type": "code",
      "metadata": {
        "id": "tWpA104WNXEs",
        "colab_type": "code",
        "outputId": "d5818045-b540-47e7-a653-28586aac060d",
        "colab": {
          "base_uri": "https://localhost:8080/",
          "height": 68
        }
      },
      "source": [
        "rmse =  np.sqrt(np.mean(predictions - y_test**2))\n",
        "rmse"
      ],
      "execution_count": 35,
      "outputs": [
        {
          "output_type": "stream",
          "text": [
            "/usr/local/lib/python3.6/dist-packages/ipykernel_launcher.py:1: RuntimeWarning: invalid value encountered in sqrt\n",
            "  \"\"\"Entry point for launching an IPython kernel.\n"
          ],
          "name": "stderr"
        },
        {
          "output_type": "execute_result",
          "data": {
            "text/plain": [
              "nan"
            ]
          },
          "metadata": {
            "tags": []
          },
          "execution_count": 35
        }
      ]
    },
    {
      "cell_type": "code",
      "metadata": {
        "id": "IhEXWHumZcb0",
        "colab_type": "code",
        "outputId": "86d30c52-f547-4caf-fba0-26ca7c670fc8",
        "colab": {
          "base_uri": "https://localhost:8080/",
          "height": 660
        }
      },
      "source": [
        "#plot the data\n",
        "train = c_df[:train_c_df_len]\n",
        "valid = c_df[train_c_df_len:]\n",
        "valid['Predictions'] = predictions\n",
        "\n",
        "plt.figure(figsize=(16,8))\n",
        "plt.title('Model')\n",
        "plt.xlabel('Date')\n",
        "plt.ylabel('Close Price')\n",
        "plt.plot(train['Close'])\n",
        "plt.plot(valid[['Close', 'Predictions']])\n",
        "plt.legend(['Train', 'Val', 'predictions'], loc='lower right')\n",
        "plt.show()"
      ],
      "execution_count": 36,
      "outputs": [
        {
          "output_type": "stream",
          "text": [
            "/usr/local/lib/python3.6/dist-packages/ipykernel_launcher.py:4: SettingWithCopyWarning: \n",
            "A value is trying to be set on a copy of a slice from a DataFrame.\n",
            "Try using .loc[row_indexer,col_indexer] = value instead\n",
            "\n",
            "See the caveats in the documentation: https://pandas.pydata.org/pandas-docs/stable/user_guide/indexing.html#returning-a-view-versus-a-copy\n",
            "  after removing the cwd from sys.path.\n"
          ],
          "name": "stderr"
        },
        {
          "output_type": "display_data",
          "data": {
            "image/png": "[encoded data removed]",
            "text/plain": [
              "<Figure size 1152x576 with 1 Axes>"
            ]
          },
          "metadata": {
            "tags": []
          }
        }
      ]
    },
    {
      "cell_type": "code",
      "metadata": {
        "id": "TGz4ajzpc2n7",
        "colab_type": "code",
        "outputId": "dac68c80-10bf-48d2-8630-32c3510b92ed",
        "colab": {
          "base_uri": "https://localhost:8080/",
          "height": 419
        }
      },
      "source": [
        "#show the valid predicted prices\n",
        "valid"
      ],
      "execution_count": 37,
      "outputs": [
        {
          "output_type": "execute_result",
          "data": {
            "text/html": [
              "<div>\n",
              "<style scoped>\n",
              "    .dataframe tbody tr th:only-of-type {\n",
              "        vertical-align: middle;\n",
              "    }\n",
              "\n",
              "    .dataframe tbody tr th {\n",
              "        vertical-align: top;\n",
              "    }\n",
              "\n",
              "    .dataframe thead th {\n",
              "        text-align: right;\n",
              "    }\n",
              "</style>\n",
              "<table border=\"1\" class=\"dataframe\">\n",
              "  <thead>\n",
              "    <tr style=\"text-align: right;\">\n",
              "      <th></th>\n",
              "      <th>Close</th>\n",
              "      <th>Predictions</th>\n",
              "    </tr>\n",
              "  </thead>\n",
              "  <tbody>\n",
              "    <tr>\n",
              "      <th>1770</th>\n",
              "      <td>63.220</td>\n",
              "      <td>64.464577</td>\n",
              "    </tr>\n",
              "    <tr>\n",
              "      <th>1771</th>\n",
              "      <td>63.405</td>\n",
              "      <td>64.517395</td>\n",
              "    </tr>\n",
              "    <tr>\n",
              "      <th>1772</th>\n",
              "      <td>63.810</td>\n",
              "      <td>64.569130</td>\n",
              "    </tr>\n",
              "    <tr>\n",
              "      <th>1773</th>\n",
              "      <td>64.480</td>\n",
              "      <td>64.656647</td>\n",
              "    </tr>\n",
              "    <tr>\n",
              "      <th>1774</th>\n",
              "      <td>64.725</td>\n",
              "      <td>64.823990</td>\n",
              "    </tr>\n",
              "    <tr>\n",
              "      <th>...</th>\n",
              "      <td>...</td>\n",
              "      <td>...</td>\n",
              "    </tr>\n",
              "    <tr>\n",
              "      <th>2207</th>\n",
              "      <td>60.425</td>\n",
              "      <td>60.850471</td>\n",
              "    </tr>\n",
              "    <tr>\n",
              "      <th>2208</th>\n",
              "      <td>61.045</td>\n",
              "      <td>60.962955</td>\n",
              "    </tr>\n",
              "    <tr>\n",
              "      <th>2209</th>\n",
              "      <td>59.035</td>\n",
              "      <td>61.166225</td>\n",
              "    </tr>\n",
              "    <tr>\n",
              "      <th>2210</th>\n",
              "      <td>58.575</td>\n",
              "      <td>61.191177</td>\n",
              "    </tr>\n",
              "    <tr>\n",
              "      <th>2211</th>\n",
              "      <td>58.175</td>\n",
              "      <td>61.070877</td>\n",
              "    </tr>\n",
              "  </tbody>\n",
              "</table>\n",
              "<p>442 rows × 2 columns</p>\n",
              "</div>"
            ],
            "text/plain": [
              "       Close  Predictions\n",
              "1770  63.220    64.464577\n",
              "1771  63.405    64.517395\n",
              "1772  63.810    64.569130\n",
              "1773  64.480    64.656647\n",
              "1774  64.725    64.823990\n",
              "...      ...          ...\n",
              "2207  60.425    60.850471\n",
              "2208  61.045    60.962955\n",
              "2209  59.035    61.166225\n",
              "2210  58.575    61.191177\n",
              "2211  58.175    61.070877\n",
              "\n",
              "[442 rows x 2 columns]"
            ]
          },
          "metadata": {
            "tags": []
          },
          "execution_count": 37
        }
      ]
    },
    {
      "cell_type": "code",
      "metadata": {
        "id": "DxkqCnmOc_ph",
        "colab_type": "code",
        "colab": {}
      },
      "source": [
        "quote= pd.read_csv('BRENToil.csv')"
      ],
      "execution_count": 0,
      "outputs": []
    },
    {
      "cell_type": "code",
      "metadata": {
        "id": "rSyJA4HfdfkB",
        "colab_type": "code",
        "colab": {}
      },
      "source": [
        "new_df = quote.filter(['Close'])"
      ],
      "execution_count": 0,
      "outputs": []
    },
    {
      "cell_type": "code",
      "metadata": {
        "id": "5zoYJUa5fNuS",
        "colab_type": "code",
        "outputId": "ec9e56f9-446b-4802-e788-9cfb9f46b1f3",
        "colab": {
          "base_uri": "https://localhost:8080/",
          "height": 419
        }
      },
      "source": [
        "new_df"
      ],
      "execution_count": 40,
      "outputs": [
        {
          "output_type": "execute_result",
          "data": {
            "text/html": [
              "<div>\n",
              "<style scoped>\n",
              "    .dataframe tbody tr th:only-of-type {\n",
              "        vertical-align: middle;\n",
              "    }\n",
              "\n",
              "    .dataframe tbody tr th {\n",
              "        vertical-align: top;\n",
              "    }\n",
              "\n",
              "    .dataframe thead th {\n",
              "        text-align: right;\n",
              "    }\n",
              "</style>\n",
              "<table border=\"1\" class=\"dataframe\">\n",
              "  <thead>\n",
              "    <tr style=\"text-align: right;\">\n",
              "      <th></th>\n",
              "      <th>Close</th>\n",
              "    </tr>\n",
              "  </thead>\n",
              "  <tbody>\n",
              "    <tr>\n",
              "      <th>0</th>\n",
              "      <td>90.680</td>\n",
              "    </tr>\n",
              "    <tr>\n",
              "      <th>1</th>\n",
              "      <td>91.565</td>\n",
              "    </tr>\n",
              "    <tr>\n",
              "      <th>2</th>\n",
              "      <td>90.968</td>\n",
              "    </tr>\n",
              "    <tr>\n",
              "      <th>3</th>\n",
              "      <td>90.868</td>\n",
              "    </tr>\n",
              "    <tr>\n",
              "      <th>4</th>\n",
              "      <td>90.991</td>\n",
              "    </tr>\n",
              "    <tr>\n",
              "      <th>...</th>\n",
              "      <td>...</td>\n",
              "    </tr>\n",
              "    <tr>\n",
              "      <th>2207</th>\n",
              "      <td>60.425</td>\n",
              "    </tr>\n",
              "    <tr>\n",
              "      <th>2208</th>\n",
              "      <td>61.045</td>\n",
              "    </tr>\n",
              "    <tr>\n",
              "      <th>2209</th>\n",
              "      <td>59.035</td>\n",
              "    </tr>\n",
              "    <tr>\n",
              "      <th>2210</th>\n",
              "      <td>58.575</td>\n",
              "    </tr>\n",
              "    <tr>\n",
              "      <th>2211</th>\n",
              "      <td>58.175</td>\n",
              "    </tr>\n",
              "  </tbody>\n",
              "</table>\n",
              "<p>2212 rows × 1 columns</p>\n",
              "</div>"
            ],
            "text/plain": [
              "       Close\n",
              "0     90.680\n",
              "1     91.565\n",
              "2     90.968\n",
              "3     90.868\n",
              "4     90.991\n",
              "...      ...\n",
              "2207  60.425\n",
              "2208  61.045\n",
              "2209  59.035\n",
              "2210  58.575\n",
              "2211  58.175\n",
              "\n",
              "[2212 rows x 1 columns]"
            ]
          },
          "metadata": {
            "tags": []
          },
          "execution_count": 40
        }
      ]
    },
    {
      "cell_type": "code",
      "metadata": {
        "id": "g99xWYtsdsH0",
        "colab_type": "code",
        "colab": {}
      },
      "source": [
        "last_100_days = new_df[-100:].values"
      ],
      "execution_count": 0,
      "outputs": []
    },
    {
      "cell_type": "code",
      "metadata": {
        "id": "UG0Jnlh6fGd2",
        "colab_type": "code",
        "outputId": "057e2d93-444b-47d9-aae7-e2911c64dbfe",
        "colab": {
          "base_uri": "https://localhost:8080/",
          "height": 1000
        }
      },
      "source": [
        "last_100_days"
      ],
      "execution_count": 42,
      "outputs": [
        {
          "output_type": "execute_result",
          "data": {
            "text/plain": [
              "array([[71.835],\n",
              "       [71.585],\n",
              "       [71.925],\n",
              "       [74.095],\n",
              "       [74.375],\n",
              "       [74.495],\n",
              "       [74.265],\n",
              "       [71.565],\n",
              "       [71.945],\n",
              "       [71.625],\n",
              "       [72.105],\n",
              "       [70.325],\n",
              "       [70.775],\n",
              "       [71.345],\n",
              "       [69.745],\n",
              "       [70.205],\n",
              "       [70.195],\n",
              "       [70.725],\n",
              "       [69.895],\n",
              "       [70.845],\n",
              "       [71.885],\n",
              "       [72.765],\n",
              "       [72.065],\n",
              "       [72.045],\n",
              "       [71.995],\n",
              "       [70.795],\n",
              "       [67.915],\n",
              "       [69.195],\n",
              "       [69.985],\n",
              "       [70.085],\n",
              "       [69.65 ],\n",
              "       [66.66 ],\n",
              "       [61.665],\n",
              "       [60.775],\n",
              "       [61.425],\n",
              "       [60.545],\n",
              "       [62.265],\n",
              "       [63.265],\n",
              "       [62.345],\n",
              "       [62.055],\n",
              "       [59.815],\n",
              "       [61.285],\n",
              "       [62.025],\n",
              "       [60.955],\n",
              "       [62.225],\n",
              "       [62.195],\n",
              "       [64.505],\n",
              "       [65.265],\n",
              "       [64.745],\n",
              "       [65.785],\n",
              "       [66.205],\n",
              "       [66.505],\n",
              "       [64.385],\n",
              "       [65.185],\n",
              "       [62.575],\n",
              "       [63.865],\n",
              "       [63.145],\n",
              "       [64.395],\n",
              "       [63.915],\n",
              "       [64.465],\n",
              "       [66.575],\n",
              "       [66.705],\n",
              "       [66.865],\n",
              "       [66.145],\n",
              "       [64.275],\n",
              "       [63.505],\n",
              "       [62.425],\n",
              "       [62.785],\n",
              "       [63.315],\n",
              "       [64.165],\n",
              "       [63.115],\n",
              "       [63.075],\n",
              "       [63.278],\n",
              "       [63.82 ],\n",
              "       [64.575],\n",
              "       [64.215],\n",
              "       [61.045],\n",
              "       [61.25 ],\n",
              "       [60.025],\n",
              "       [58.665],\n",
              "       [57.335],\n",
              "       [57.705],\n",
              "       [58.223],\n",
              "       [58.415],\n",
              "       [60.885],\n",
              "       [59.035],\n",
              "       [58.325],\n",
              "       [58.635],\n",
              "       [59.745],\n",
              "       [60.063],\n",
              "       [60.335],\n",
              "       [59.985],\n",
              "       [59.105],\n",
              "       [58.785],\n",
              "       [60.105],\n",
              "       [60.425],\n",
              "       [61.045],\n",
              "       [59.035],\n",
              "       [58.575],\n",
              "       [58.175]])"
            ]
          },
          "metadata": {
            "tags": []
          },
          "execution_count": 42
        }
      ]
    },
    {
      "cell_type": "code",
      "metadata": {
        "id": "95sQUpdBd6S-",
        "colab_type": "code",
        "outputId": "46bb79f7-b856-40d7-9168-b48cdc61f6e8",
        "colab": {
          "base_uri": "https://localhost:8080/",
          "height": 71
        }
      },
      "source": [
        "last_100_days_norm = norm.transform(last_100_days)\n",
        "X_test = []\n",
        "X_test.append(last_100_days_norm)\n",
        "X_test = np.array(X_test)\n",
        "X_test = np.reshape(X_test, (X_test.shape[0], X_test.shape[1], 1))\n",
        "pred_price = model.predict(X_test)\n",
        "pred_price = norm.inverse_transform(pred_price)\n",
        "print(pred_price)"
      ],
      "execution_count": 43,
      "outputs": [
        {
          "output_type": "stream",
          "text": [
            "WARNING:tensorflow:Model was constructed with shape (None, 60, 1) for input Tensor(\"lstm_input:0\", shape=(None, 60, 1), dtype=float32), but it was called on an input with incompatible shape (None, 100, 1).\n",
            "[[60.841293]]\n"
          ],
          "name": "stdout"
        }
      ]
    }
  ]
}